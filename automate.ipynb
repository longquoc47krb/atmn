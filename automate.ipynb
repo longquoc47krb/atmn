{
 "cells": [
  {
   "cell_type": "code",
   "execution_count": 1,
   "metadata": {},
   "outputs": [],
   "source": [
    "from get_tc import *"
   ]
  },
  {
   "cell_type": "code",
   "execution_count": 2,
   "metadata": {},
   "outputs": [
    {
     "data": {
      "text/plain": [
       "('3900367581', 6870000.0)"
      ]
     },
     "execution_count": 2,
     "metadata": {},
     "output_type": "execute_result"
    }
   ],
   "source": [
    "get_bill_info(\"1065\")"
   ]
  },
  {
   "cell_type": "code",
   "execution_count": 7,
   "metadata": {},
   "outputs": [
    {
     "name": "stdout",
     "output_type": "stream",
     "text": [
      "Column Names in 'ACB-10-2024': ['Họ tên khách hàng: CTY CP SUC KHOE MOI TRUONG MIEN NAM', 'Unnamed: 1', 'Unnamed: 2', 'Unnamed: 3', 'Unnamed: 4', 'Unnamed: 5', 'Unnamed: 6', 'Unnamed: 7', 'Unnamed: 8']\n"
     ]
    }
   ],
   "source": [
    "import pandas as pd\n",
    "\n",
    "# Read the Excel file and specify the sheet name\n",
    "df_acb = pd.read_excel('SKMN.xlsx', sheet_name='ACB-10-2024')\n",
    "\n",
    "# Get the column names\n",
    "column_names_acb = df_acb.columns.tolist()\n",
    "print(\"Column Names in 'ACB-10-2024':\", column_names_acb)\n"
   ]
  },
  {
   "cell_type": "code",
   "execution_count": 8,
   "metadata": {},
   "outputs": [
    {
     "name": "stdout",
     "output_type": "stream",
     "text": [
      "[964 1026 768 1049 1051 1031 1045 1055 1048 1207 952 1073 996 1035 806\n",
      " 1028 1059 1034 1079 1081 989 1077 1016 497 1070 921 '946+945' 1029 1080\n",
      " 1023 1090 1089 1002 1087 940 1068 128 1084 1061 1096 1056 1013 1069\n",
      " 'tt 30 % hđ ' 1043 1062 1071 951 1042 1083 698 667 1047 1040 1140 1091\n",
      " 1072 1103 978 1094 1136 1143 1149 1054 1114 1104 1109 1145 1147 1058 995\n",
      " 1108 1076 1107 1112 1113 961 1082 960 1159 '1276+179' 1097 1146 1110 1105\n",
      " '1163+1166' 1011 1024 1144 1138 1152 1111]\n"
     ]
    }
   ],
   "source": [
    "data_array = df_acb['Unnamed: 7'].dropna().values\n",
    "print(data_array)"
   ]
  },
  {
   "cell_type": "code",
   "execution_count": 11,
   "metadata": {},
   "outputs": [
    {
     "name": "stdout",
     "output_type": "stream",
     "text": [
      "['964' '1026' '768' '1049' '1051' '1031' '1045' '1055' '1048' '1207' '952'\n",
      " '1073' '996' '1035' '806' '1028' '1059' '1034' '1079' '1081' '989' '1077'\n",
      " '1016' '497' '1070' '921' '946' '945' '1029' '1080' '1023' '1090' '1089'\n",
      " '1002' '1087' '940' '1068' '128' '1084' '1061' '1096' '1056' '1013'\n",
      " '1069' '0' '1043' '1062' '1071' '951' '1042' '1083' '698' '667' '1047'\n",
      " '1040' '1140' '1091' '1072' '1103' '978' '1094' '1136' '1143' '1149'\n",
      " '1054' '1114' '1104' '1109' '1145' '1147' '1058' '995' '1108' '1076'\n",
      " '1107' '1112' '1113' '961' '1082' '960' '1159' '1276' '179' '1097' '1146'\n",
      " '1110' '1105' '1163' '1166' '1011' '1024' '1144' '1138' '1152' '1111']\n"
     ]
    }
   ],
   "source": [
    "preprocessed_data = []\n",
    "\n",
    "for item in data_array:\n",
    "    # Convert the item to string and split by '+', then take the first part\n",
    "    first_part = str(item).split('+')[0]\n",
    "    \n",
    "    # Check if the first part is a digit\n",
    "    if first_part.isdigit():\n",
    "        preprocessed_data.append(first_part)\n",
    "    else:\n",
    "        preprocessed_data.append('0')\n",
    "\n",
    "# Convert the preprocessed_data list to a numpy array\n",
    "preprocessed_data_array = np.array(preprocessed_data)\n",
    "data_array = preprocessed_data_array\n",
    "print(data_array)"
   ]
  },
  {
   "cell_type": "code",
   "execution_count": 9,
   "metadata": {},
   "outputs": [
    {
     "name": "stdout",
     "output_type": "stream",
     "text": [
      "['964' '1026' '768' '1049' '1051' '1031' '1045' '1055' '1048' '1207' '952'\n",
      " '1073' '996' '1035' '806' '1028' '1059' '1034' '1079' '1081' '989' '1077'\n",
      " '1016' '497' '1070' '921' '946' '945' '1029' '1080' '1023' '1090' '1089'\n",
      " '1002' '1087' '940' '1068' '128' '1084' '1061' '1096' '1056' '1013'\n",
      " '1069' 'tt' '1043' '1062' '1071' '951' '1042' '1083' '698' '667' '1047'\n",
      " '1040' '1140' '1091' '1072' '1103' '978' '1094' '1136' '1143' '1149'\n",
      " '1054' '1114' '1104' '1109' '1145' '1147' '1058' '995' '1108' '1076'\n",
      " '1107' '1112' '1113' '961' '1082' '960' '1159' '1276' '179' '1097' '1146'\n",
      " '1110' '1105' '1163' '1166' '1011' '1024' '1144' '1138' '1152' '1111']\n"
     ]
    }
   ],
   "source": [
    "import numpy as np\n",
    "\n",
    "preprocessed_data = []\n",
    "\n",
    "for item in data_array:\n",
    "    # Convert the item to string and split by space, then take the first part\n",
    "    first_part = str(item).split(' ')[0]\n",
    "    \n",
    "    # Check if the first part contains a '+', indicating combined values\n",
    "    if '+' in first_part:\n",
    "        # Split the combined values and extend the preprocessed_data list\n",
    "        preprocessed_data.extend(first_part.split('+'))\n",
    "    else:\n",
    "        # Append the single value to the preprocessed_data list\n",
    "        preprocessed_data.append(first_part)\n",
    "\n",
    "# Convert the preprocessed_data list to a numpy array\n",
    "preprocessed_data_array = np.array(preprocessed_data)\n",
    "data_array = preprocessed_data_array\n",
    "print(data_array)"
   ]
  },
  {
   "cell_type": "code",
   "execution_count": 12,
   "metadata": {
    "vscode": {
     "languageId": "ruby"
    }
   },
   "outputs": [
    {
     "ename": "ValueError",
     "evalue": "Length of values (95) does not match length of index (130)",
     "output_type": "error",
     "traceback": [
      "\u001b[1;31m---------------------------------------------------------------------------\u001b[0m",
      "\u001b[1;31mValueError\u001b[0m                                Traceback (most recent call last)",
      "Cell \u001b[1;32mIn[12], line 17\u001b[0m\n\u001b[0;32m     14\u001b[0m     values_2\u001b[38;5;241m.\u001b[39mappend(value_2)\n\u001b[0;32m     16\u001b[0m \u001b[38;5;66;03m# Add the values to the dataframe\u001b[39;00m\n\u001b[1;32m---> 17\u001b[0m \u001b[43mdf_acb\u001b[49m\u001b[43m[\u001b[49m\u001b[38;5;124;43m'\u001b[39;49m\u001b[38;5;124;43mJ\u001b[39;49m\u001b[38;5;124;43m'\u001b[39;49m\u001b[43m]\u001b[49m \u001b[38;5;241m=\u001b[39m values_1\n\u001b[0;32m     18\u001b[0m df_acb[\u001b[38;5;124m'\u001b[39m\u001b[38;5;124mK\u001b[39m\u001b[38;5;124m'\u001b[39m] \u001b[38;5;241m=\u001b[39m values_2\n\u001b[0;32m     20\u001b[0m \u001b[38;5;66;03m# Display the updated dataframe\u001b[39;00m\n",
      "File \u001b[1;32mc:\\Users\\Admin\\AppData\\Local\\Programs\\Python\\Python310\\lib\\site-packages\\pandas\\core\\frame.py:4311\u001b[0m, in \u001b[0;36mDataFrame.__setitem__\u001b[1;34m(self, key, value)\u001b[0m\n\u001b[0;32m   4308\u001b[0m     \u001b[38;5;28mself\u001b[39m\u001b[38;5;241m.\u001b[39m_setitem_array([key], value)\n\u001b[0;32m   4309\u001b[0m \u001b[38;5;28;01melse\u001b[39;00m:\n\u001b[0;32m   4310\u001b[0m     \u001b[38;5;66;03m# set column\u001b[39;00m\n\u001b[1;32m-> 4311\u001b[0m     \u001b[38;5;28;43mself\u001b[39;49m\u001b[38;5;241;43m.\u001b[39;49m\u001b[43m_set_item\u001b[49m\u001b[43m(\u001b[49m\u001b[43mkey\u001b[49m\u001b[43m,\u001b[49m\u001b[43m \u001b[49m\u001b[43mvalue\u001b[49m\u001b[43m)\u001b[49m\n",
      "File \u001b[1;32mc:\\Users\\Admin\\AppData\\Local\\Programs\\Python\\Python310\\lib\\site-packages\\pandas\\core\\frame.py:4524\u001b[0m, in \u001b[0;36mDataFrame._set_item\u001b[1;34m(self, key, value)\u001b[0m\n\u001b[0;32m   4514\u001b[0m \u001b[38;5;28;01mdef\u001b[39;00m\u001b[38;5;250m \u001b[39m\u001b[38;5;21m_set_item\u001b[39m(\u001b[38;5;28mself\u001b[39m, key, value) \u001b[38;5;241m-\u001b[39m\u001b[38;5;241m>\u001b[39m \u001b[38;5;28;01mNone\u001b[39;00m:\n\u001b[0;32m   4515\u001b[0m \u001b[38;5;250m    \u001b[39m\u001b[38;5;124;03m\"\"\"\u001b[39;00m\n\u001b[0;32m   4516\u001b[0m \u001b[38;5;124;03m    Add series to DataFrame in specified column.\u001b[39;00m\n\u001b[0;32m   4517\u001b[0m \n\u001b[1;32m   (...)\u001b[0m\n\u001b[0;32m   4522\u001b[0m \u001b[38;5;124;03m    ensure homogeneity.\u001b[39;00m\n\u001b[0;32m   4523\u001b[0m \u001b[38;5;124;03m    \"\"\"\u001b[39;00m\n\u001b[1;32m-> 4524\u001b[0m     value, refs \u001b[38;5;241m=\u001b[39m \u001b[38;5;28;43mself\u001b[39;49m\u001b[38;5;241;43m.\u001b[39;49m\u001b[43m_sanitize_column\u001b[49m\u001b[43m(\u001b[49m\u001b[43mvalue\u001b[49m\u001b[43m)\u001b[49m\n\u001b[0;32m   4526\u001b[0m     \u001b[38;5;28;01mif\u001b[39;00m (\n\u001b[0;32m   4527\u001b[0m         key \u001b[38;5;129;01min\u001b[39;00m \u001b[38;5;28mself\u001b[39m\u001b[38;5;241m.\u001b[39mcolumns\n\u001b[0;32m   4528\u001b[0m         \u001b[38;5;129;01mand\u001b[39;00m value\u001b[38;5;241m.\u001b[39mndim \u001b[38;5;241m==\u001b[39m \u001b[38;5;241m1\u001b[39m\n\u001b[0;32m   4529\u001b[0m         \u001b[38;5;129;01mand\u001b[39;00m \u001b[38;5;129;01mnot\u001b[39;00m \u001b[38;5;28misinstance\u001b[39m(value\u001b[38;5;241m.\u001b[39mdtype, ExtensionDtype)\n\u001b[0;32m   4530\u001b[0m     ):\n\u001b[0;32m   4531\u001b[0m         \u001b[38;5;66;03m# broadcast across multiple columns if necessary\u001b[39;00m\n\u001b[0;32m   4532\u001b[0m         \u001b[38;5;28;01mif\u001b[39;00m \u001b[38;5;129;01mnot\u001b[39;00m \u001b[38;5;28mself\u001b[39m\u001b[38;5;241m.\u001b[39mcolumns\u001b[38;5;241m.\u001b[39mis_unique \u001b[38;5;129;01mor\u001b[39;00m \u001b[38;5;28misinstance\u001b[39m(\u001b[38;5;28mself\u001b[39m\u001b[38;5;241m.\u001b[39mcolumns, MultiIndex):\n",
      "File \u001b[1;32mc:\\Users\\Admin\\AppData\\Local\\Programs\\Python\\Python310\\lib\\site-packages\\pandas\\core\\frame.py:5266\u001b[0m, in \u001b[0;36mDataFrame._sanitize_column\u001b[1;34m(self, value)\u001b[0m\n\u001b[0;32m   5263\u001b[0m     \u001b[38;5;28;01mreturn\u001b[39;00m _reindex_for_setitem(value, \u001b[38;5;28mself\u001b[39m\u001b[38;5;241m.\u001b[39mindex)\n\u001b[0;32m   5265\u001b[0m \u001b[38;5;28;01mif\u001b[39;00m is_list_like(value):\n\u001b[1;32m-> 5266\u001b[0m     \u001b[43mcom\u001b[49m\u001b[38;5;241;43m.\u001b[39;49m\u001b[43mrequire_length_match\u001b[49m\u001b[43m(\u001b[49m\u001b[43mvalue\u001b[49m\u001b[43m,\u001b[49m\u001b[43m \u001b[49m\u001b[38;5;28;43mself\u001b[39;49m\u001b[38;5;241;43m.\u001b[39;49m\u001b[43mindex\u001b[49m\u001b[43m)\u001b[49m\n\u001b[0;32m   5267\u001b[0m arr \u001b[38;5;241m=\u001b[39m sanitize_array(value, \u001b[38;5;28mself\u001b[39m\u001b[38;5;241m.\u001b[39mindex, copy\u001b[38;5;241m=\u001b[39m\u001b[38;5;28;01mTrue\u001b[39;00m, allow_2d\u001b[38;5;241m=\u001b[39m\u001b[38;5;28;01mTrue\u001b[39;00m)\n\u001b[0;32m   5268\u001b[0m \u001b[38;5;28;01mif\u001b[39;00m (\n\u001b[0;32m   5269\u001b[0m     \u001b[38;5;28misinstance\u001b[39m(value, Index)\n\u001b[0;32m   5270\u001b[0m     \u001b[38;5;129;01mand\u001b[39;00m value\u001b[38;5;241m.\u001b[39mdtype \u001b[38;5;241m==\u001b[39m \u001b[38;5;124m\"\u001b[39m\u001b[38;5;124mobject\u001b[39m\u001b[38;5;124m\"\u001b[39m\n\u001b[1;32m   (...)\u001b[0m\n\u001b[0;32m   5273\u001b[0m     \u001b[38;5;66;03m# TODO: Remove kludge in sanitize_array for string mode when enforcing\u001b[39;00m\n\u001b[0;32m   5274\u001b[0m     \u001b[38;5;66;03m# this deprecation\u001b[39;00m\n",
      "File \u001b[1;32mc:\\Users\\Admin\\AppData\\Local\\Programs\\Python\\Python310\\lib\\site-packages\\pandas\\core\\common.py:573\u001b[0m, in \u001b[0;36mrequire_length_match\u001b[1;34m(data, index)\u001b[0m\n\u001b[0;32m    569\u001b[0m \u001b[38;5;250m\u001b[39m\u001b[38;5;124;03m\"\"\"\u001b[39;00m\n\u001b[0;32m    570\u001b[0m \u001b[38;5;124;03mCheck the length of data matches the length of the index.\u001b[39;00m\n\u001b[0;32m    571\u001b[0m \u001b[38;5;124;03m\"\"\"\u001b[39;00m\n\u001b[0;32m    572\u001b[0m \u001b[38;5;28;01mif\u001b[39;00m \u001b[38;5;28mlen\u001b[39m(data) \u001b[38;5;241m!=\u001b[39m \u001b[38;5;28mlen\u001b[39m(index):\n\u001b[1;32m--> 573\u001b[0m     \u001b[38;5;28;01mraise\u001b[39;00m \u001b[38;5;167;01mValueError\u001b[39;00m(\n\u001b[0;32m    574\u001b[0m         \u001b[38;5;124m\"\u001b[39m\u001b[38;5;124mLength of values \u001b[39m\u001b[38;5;124m\"\u001b[39m\n\u001b[0;32m    575\u001b[0m         \u001b[38;5;124mf\u001b[39m\u001b[38;5;124m\"\u001b[39m\u001b[38;5;124m(\u001b[39m\u001b[38;5;132;01m{\u001b[39;00m\u001b[38;5;28mlen\u001b[39m(data)\u001b[38;5;132;01m}\u001b[39;00m\u001b[38;5;124m) \u001b[39m\u001b[38;5;124m\"\u001b[39m\n\u001b[0;32m    576\u001b[0m         \u001b[38;5;124m\"\u001b[39m\u001b[38;5;124mdoes not match length of index \u001b[39m\u001b[38;5;124m\"\u001b[39m\n\u001b[0;32m    577\u001b[0m         \u001b[38;5;124mf\u001b[39m\u001b[38;5;124m\"\u001b[39m\u001b[38;5;124m(\u001b[39m\u001b[38;5;132;01m{\u001b[39;00m\u001b[38;5;28mlen\u001b[39m(index)\u001b[38;5;132;01m}\u001b[39;00m\u001b[38;5;124m)\u001b[39m\u001b[38;5;124m\"\u001b[39m\n\u001b[0;32m    578\u001b[0m     )\n",
      "\u001b[1;31mValueError\u001b[0m: Length of values (95) does not match length of index (130)"
     ]
    }
   ],
   "source": [
    "# Initialize empty lists to store the values\n",
    "values_1 = []\n",
    "values_2 = []\n",
    "for element in data_array:\n",
    "    # Get the bill info for the current element\n",
    "    bill_info = get_bill_info(element)\n",
    "    \n",
    "    # Extract the required values from the bill_info\n",
    "    value_1 = bill_info[0] if len(bill_info) > 0 else None\n",
    "    value_2 = bill_info[1] if len(bill_info) > 1 else None\n",
    "    \n",
    "    # Append the values to the respective lists\n",
    "    values_1.append(value_1)\n",
    "    values_2.append(value_2)\n",
    "\n",
    "# Add the values to the dataframe\n",
    "df_acb['J'] = values_1\n",
    "df_acb['K'] = values_2\n",
    "\n",
    "# Display the updated dataframe\n",
    "print(df_acb)"
   ]
  },
  {
   "cell_type": "code",
   "execution_count": null,
   "metadata": {},
   "outputs": [],
   "source": []
  },
  {
   "cell_type": "code",
   "execution_count": null,
   "metadata": {},
   "outputs": [],
   "source": []
  },
  {
   "cell_type": "code",
   "execution_count": null,
   "metadata": {},
   "outputs": [],
   "source": []
  }
 ],
 "metadata": {
  "kernelspec": {
   "display_name": "Python 3",
   "language": "python",
   "name": "python3"
  },
  "language_info": {
   "codemirror_mode": {
    "name": "ipython",
    "version": 3
   },
   "file_extension": ".py",
   "mimetype": "text/x-python",
   "name": "python",
   "nbconvert_exporter": "python",
   "pygments_lexer": "ipython3",
   "version": "3.10.0"
  }
 },
 "nbformat": 4,
 "nbformat_minor": 2
}
